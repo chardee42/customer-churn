{
 "cells": [
  {
   "cell_type": "markdown",
   "id": "9c045c1f",
   "metadata": {},
   "source": [
    "\n",
    "# Customer Churn Prediction – EDA & Modeling\n",
    "\n",
    "This notebook performs exploratory data analysis (EDA), feature engineering, model training, and evaluation for the **Customer Churn Prediction** project.  \n",
    "It uses **Scikit-learn**, **XGBoost**, and **SHAP** (optional) and is designed to work with the Telco Customer Churn dataset.\n"
   ]
  },
  {
   "cell_type": "code",
   "execution_count": null,
   "id": "165927ec",
   "metadata": {},
   "outputs": [],
   "source": [
    "\n",
    "# --- Imports & Configuration ---\n",
    "import os\n",
    "import numpy as np\n",
    "import pandas as pd\n",
    "import matplotlib.pyplot as plt\n",
    "\n",
    "from sklearn.model_selection import train_test_split, GridSearchCV, cross_val_score\n",
    "from sklearn.compose import ColumnTransformer\n",
    "from sklearn.preprocessing import OneHotEncoder, StandardScaler\n",
    "from sklearn.impute import SimpleImputer\n",
    "from sklearn.pipeline import Pipeline\n",
    "from sklearn.metrics import roc_auc_score, roc_curve, precision_recall_curve, classification_report\n",
    "\n",
    "from xgboost import XGBClassifier\n",
    "from sklearn.linear_model import LogisticRegression\n",
    "from sklearn.ensemble import RandomForestClassifier\n",
    "\n",
    "import joblib\n",
    "\n",
    "# Try to import shap (optional for explainability)\n",
    "try:\n",
    "    import shap\n",
    "    SHAP_AVAILABLE = True\n",
    "except Exception:\n",
    "    SHAP_AVAILABLE = False\n",
    "\n",
    "plt.rcParams['figure.figsize'] = (8, 5)\n",
    "\n",
    "# Path to data relative to this notebook (assuming repo layout)\n",
    "DATA_PATH = '../data/telco_churn.csv'  # <-- change if different\n",
    "ARTIFACT_DIR = '../artifacts'\n",
    "os.makedirs(ARTIFACT_DIR, exist_ok=True)\n",
    "\n",
    "print('SHAP available:', SHAP_AVAILABLE)\n",
    "print('Data path:', DATA_PATH)\n"
   ]
  },
  {
   "cell_type": "markdown",
   "id": "de612ffb",
   "metadata": {},
   "source": [
    "## 1. Load & Preview Data"
   ]
  },
  {
   "cell_type": "code",
   "execution_count": null,
   "id": "a5c3fbdc",
   "metadata": {},
   "outputs": [],
   "source": [
    "\n",
    "# --- Load & Preview ---\n",
    "df = pd.read_csv(DATA_PATH)\n",
    "\n",
    "# Clean up TotalCharges if present (coerce to numeric)\n",
    "if 'TotalCharges' in df.columns:\n",
    "    df['TotalCharges'] = pd.to_numeric(df['TotalCharges'], errors='coerce')\n",
    "\n",
    "print('Shape:', df.shape)\n",
    "df.head()\n"
   ]
  },
  {
   "cell_type": "markdown",
   "id": "c56957bb",
   "metadata": {},
   "source": [
    "## 2. Basic EDA"
   ]
  },
  {
   "cell_type": "code",
   "execution_count": null,
   "id": "1864cb4d",
   "metadata": {},
   "outputs": [],
   "source": [
    "\n",
    "# Target distribution\n",
    "target_col = 'Churn'  # assumes Yes/No\n",
    "if target_col in df.columns:\n",
    "    print(df[target_col].value_counts(dropna=False))\n",
    "    df[target_col].value_counts(normalize=True).plot(kind='bar', title='Churn Distribution'); plt.show()\n",
    "\n",
    "# Example relationships (customize as needed)\n",
    "for col in ['Contract', 'InternetService', 'PaymentMethod']:\n",
    "    if col in df.columns and target_col in df.columns:\n",
    "        ct = pd.crosstab(df[col], df[target_col], normalize='index')\n",
    "        ct.plot(kind='bar', stacked=True, title=f'{col} vs. Churn'); plt.ylabel('Proportion'); plt.show()\n"
   ]
  },
  {
   "cell_type": "markdown",
   "id": "2cdbce37",
   "metadata": {},
   "source": [
    "## 3. Train/Test Split & Preprocessing"
   ]
  },
  {
   "cell_type": "code",
   "execution_count": null,
   "id": "f9a84acb",
   "metadata": {},
   "outputs": [],
   "source": [
    "\n",
    "# --- Split X, y ---\n",
    "y = (df[target_col].astype(str).str.lower() == 'yes').astype(int)\n",
    "X = df.drop(columns=[target_col])\n",
    "\n",
    "# Identify dtypes\n",
    "numeric_cols = X.select_dtypes(include=['int64', 'float64']).columns.tolist()\n",
    "categorical_cols = X.select_dtypes(exclude=['int64', 'float64']).columns.tolist()\n",
    "\n",
    "# Preprocessor: impute, scale numeric; one-hot encode categoricals\n",
    "numeric_transformer = Pipeline(steps=[\n",
    "    ('imputer', SimpleImputer(strategy='median')),\n",
    "    ('scaler', StandardScaler(with_mean=False))\n",
    "])\n",
    "\n",
    "categorical_transformer = Pipeline(steps=[\n",
    "    ('imputer', SimpleImputer(strategy='most_frequent')),\n",
    "    ('encoder', OneHotEncoder(handle_unknown='ignore'))\n",
    "])\n",
    "\n",
    "preprocessor = ColumnTransformer(\n",
    "    transformers=[\n",
    "        ('num', numeric_transformer, numeric_cols),\n",
    "        ('cat', categorical_transformer, categorical_cols)\n",
    "    ],\n",
    "    remainder='drop'\n",
    ")\n",
    "\n",
    "X_train, X_test, y_train, y_test = train_test_split(X, y, test_size=0.2, stratify=y, random_state=42)\n",
    "X_train.shape, X_test.shape\n"
   ]
  },
  {
   "cell_type": "markdown",
   "id": "cb2f6b19",
   "metadata": {},
   "source": [
    "## 4. Baseline Models & Cross-Validation"
   ]
  },
  {
   "cell_type": "code",
   "execution_count": null,
   "id": "1cab1f19",
   "metadata": {},
   "outputs": [],
   "source": [
    "\n",
    "# Define candidate models\n",
    "models = {\n",
    "    'logreg': LogisticRegression(max_iter=1000),\n",
    "    'rf': RandomForestClassifier(n_estimators=300, n_jobs=-1, random_state=42),\n",
    "    'xgb': XGBClassifier(\n",
    "        n_estimators=500, eval_metric='auc', tree_method='hist', n_jobs=-1, random_state=42\n",
    "    )\n",
    "}\n",
    "\n",
    "cv_results = {}\n",
    "for name, clf in models.items():\n",
    "    pipe = Pipeline([('prep', preprocessor), ('clf', clf)])\n",
    "    scores = cross_val_score(pipe, X_train, y_train, scoring='roc_auc', cv=3, n_jobs=-1)\n",
    "    cv_results[name] = (scores.mean(), scores.std())\n",
    "    print(f'{name}: ROC-AUC {scores.mean():.3f} ± {scores.std():.3f}')\n",
    "\n",
    "cv_results\n"
   ]
  },
  {
   "cell_type": "markdown",
   "id": "529990ad",
   "metadata": {},
   "source": [
    "## 5. Hyperparameter Tuning (XGBoost)"
   ]
  },
  {
   "cell_type": "code",
   "execution_count": null,
   "id": "2a151e11",
   "metadata": {},
   "outputs": [],
   "source": [
    "\n",
    "param_grid = {\n",
    "    'clf__max_depth': [4, 6, 8],\n",
    "    'clf__learning_rate': [0.03, 0.1],\n",
    "    'clf__subsample': [0.8, 1.0]\n",
    "}\n",
    "\n",
    "xgb_pipe = Pipeline([('prep', preprocessor),\n",
    "                     ('clf', XGBClassifier(n_estimators=500, eval_metric='auc', tree_method='hist', n_jobs=-1, random_state=42))])\n",
    "\n",
    "gs = GridSearchCV(xgb_pipe, param_grid, cv=3, scoring='roc_auc', n_jobs=-1, verbose=1)\n",
    "gs.fit(X_train, y_train)\n",
    "\n",
    "print('Best params:', gs.best_params_)\n",
    "print('Best CV ROC-AUC:', gs.best_score_)\n",
    "\n",
    "best_model = gs.best_estimator_\n"
   ]
  },
  {
   "cell_type": "markdown",
   "id": "e189084c",
   "metadata": {},
   "source": [
    "## 6. Evaluation on Holdout Set"
   ]
  },
  {
   "cell_type": "code",
   "execution_count": null,
   "id": "0d45f2fd",
   "metadata": {},
   "outputs": [],
   "source": [
    "\n",
    "y_proba = best_model.predict_proba(X_test)[:, 1]\n",
    "y_pred = (y_proba >= 0.5).astype(int)\n",
    "\n",
    "auc = roc_auc_score(y_test, y_proba)\n",
    "print('Holdout ROC-AUC:', round(auc, 3))\n",
    "print('\\nClassification Report\\n', classification_report(y_test, y_pred))\n",
    "\n",
    "# ROC curve\n",
    "fpr, tpr, _ = roc_curve(y_test, y_proba)\n",
    "plt.plot(fpr, tpr, label=f'ROC (AUC={auc:.2f})')\n",
    "plt.plot([0,1],[0,1],'k--')\n",
    "plt.xlabel('False Positive Rate')\n",
    "plt.ylabel('True Positive Rate')\n",
    "plt.title('ROC Curve')\n",
    "plt.legend()\n",
    "plt.show()\n",
    "\n",
    "# Precision-Recall curve\n",
    "prec, rec, _ = precision_recall_curve(y_test, y_proba)\n",
    "plt.plot(rec, prec, label='Precision-Recall')\n",
    "plt.xlabel('Recall')\n",
    "plt.ylabel('Precision')\n",
    "plt.title('Precision-Recall Curve')\n",
    "plt.legend()\n",
    "plt.show()\n"
   ]
  },
  {
   "cell_type": "markdown",
   "id": "19c13c70",
   "metadata": {},
   "source": [
    "## 7. Explainability (SHAP)"
   ]
  },
  {
   "cell_type": "code",
   "execution_count": null,
   "id": "cff3651a",
   "metadata": {},
   "outputs": [],
   "source": [
    "\n",
    "if SHAP_AVAILABLE:\n",
    "    # Take a small sample to speed up plotting if needed\n",
    "    X_sample = X_test.sample(min(500, len(X_test)), random_state=42)\n",
    "    # Extract the underlying trained XGB model after preprocessing\n",
    "    # We can transform X_sample with the preprocessor to a numeric matrix\n",
    "    X_mat = best_model.named_steps['prep'].transform(X_sample)\n",
    "    xgb_clf = best_model.named_steps['clf']\n",
    "\n",
    "    explainer = shap.TreeExplainer(xgb_clf)\n",
    "    shap_values = explainer.shap_values(X_mat)\n",
    "\n",
    "    shap.summary_plot(shap_values, X_mat, show=True)\n",
    "else:\n",
    "    print(\"SHAP not installed. To enable, install shap and rerun this cell.\")\n"
   ]
  },
  {
   "cell_type": "markdown",
   "id": "8424839d",
   "metadata": {},
   "source": [
    "## 8. Save Trained Model"
   ]
  },
  {
   "cell_type": "code",
   "execution_count": null,
   "id": "749de685",
   "metadata": {},
   "outputs": [],
   "source": [
    "\n",
    "model_path = os.path.join(ARTIFACT_DIR, 'xgb_nb_model.joblib')\n",
    "joblib.dump(best_model, model_path)\n",
    "model_path\n"
   ]
  }
 ],
 "metadata": {},
 "nbformat": 4,
 "nbformat_minor": 5
}
